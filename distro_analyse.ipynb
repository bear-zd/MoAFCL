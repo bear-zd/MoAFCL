{
 "cells": [
  {
   "cell_type": "code",
   "execution_count": 9,
   "metadata": {},
   "outputs": [],
   "source": [
    "class argparser():\n",
    "   device = \"cuda:1\"\n",
    "   dataset = 'officehome'\n",
    "   root_dir='/mnt/sda/zd/data/splitdata_new/'\n",
    "   net='ViT-B/16'\n",
    "   seed=0\n",
    "   logdir=None\n",
    "   device=\"cuda:1\"\n",
    "   n_clients=10\n",
    "   n_experts=5\n",
    "   inner_iter=10\n",
    "   n_task=10\n",
    "   # data setting parameter\n",
    "   datapercent=8e-1\n",
    "   batch=10\n",
    "   # optimizer parameter\n",
    "   lr=2e-3\n",
    "   beta1=0.9\n",
    "   beta2=0.98\n",
    "   eps=1e-6\n",
    "   weight_decay=0.2\n",
    "import logging\n",
    "def init():\n",
    "    args = argparser()\n",
    "    if args.logdir is not None:\n",
    "        logging.basicConfig(filename=args.logdir, level=logging.DEBUG)\n",
    "    else:\n",
    "        logging.basicConfig(stream=sys.stdout, level=logging.DEBUG)\n",
    "    args.random_state = np.random.RandomState(1)\n",
    "    set_random_seed(args.seed)\n",
    "    args = img_param_init(args)  # init the dataset parameters(domains and classnum)\n",
    "    args.thresh = 1e-4\n",
    "    return args"
   ]
  },
  {
   "cell_type": "code",
   "execution_count": 10,
   "metadata": {},
   "outputs": [],
   "source": [
    "import sys\n",
    "import os\n",
    "import itertools\n",
    "\n",
    "base_path = os.path.dirname(os.path.dirname(os.path.abspath(\".\")))\n",
    "sys.path.append(base_path)\n",
    "\n",
    "import torch.optim as optim\n",
    "import numpy as np\n",
    "from tqdm import tqdm\n",
    "import logging\n",
    "\n",
    "from utils.config import img_param_init, set_random_seed\n",
    "from utils.dataload import DomainDataset, get_data\n",
    "from model.clip import ClipModelMA, Adapter\n",
    "from process import train_client, communicate, test_server, test_client, fetch"
   ]
  },
  {
   "cell_type": "code",
   "execution_count": 11,
   "metadata": {},
   "outputs": [],
   "source": [
    "\n",
    "    \n",
    "def init():\n",
    "    args = argparser()\n",
    "    if args.logdir is not None:\n",
    "        logging.basicConfig(filename=args.logdir, level=logging.DEBUG)\n",
    "    else:\n",
    "        logging.basicConfig(stream=sys.stdout, level=logging.DEBUG)\n",
    "    args.random_state = np.random.RandomState(1)\n",
    "    set_random_seed(args.seed)\n",
    "    args = img_param_init(args)  # init the dataset parameters(domains and classnum)\n",
    "    args.thresh = 1e-4\n",
    "    return args"
   ]
  },
  {
   "cell_type": "code",
   "execution_count": 12,
   "metadata": {},
   "outputs": [
    {
     "name": "stdout",
     "output_type": "stream",
     "text": [
      "Argument init successful!\n",
      "loading data in /mnt/sda/zd/data/splitdata_new/client0/task0/Art\n",
      "loading data in /mnt/sda/zd/data/splitdata_new/client1/task0/Clipart\n",
      "loading data in /mnt/sda/zd/data/splitdata_new/client2/task0/Clipart\n",
      "loading data in /mnt/sda/zd/data/splitdata_new/client3/task0/Clipart\n",
      "loading data in /mnt/sda/zd/data/splitdata_new/client4/task0/Clipart\n",
      "loading data in /mnt/sda/zd/data/splitdata_new/client5/task0/Art\n",
      "loading data in /mnt/sda/zd/data/splitdata_new/client6/task0/Product\n",
      "loading data in /mnt/sda/zd/data/splitdata_new/client7/task0/Art\n",
      "loading data in /mnt/sda/zd/data/splitdata_new/client8/task0/Product\n",
      "loading data in /mnt/sda/zd/data/splitdata_new/client9/task0/Clipart\n",
      "loading data in /mnt/sda/zd/data/splitdata_new/test/Clipart with ['Clipart', 'Product', 'Real World', 'Art']\n",
      "loading data in /mnt/sda/zd/data/splitdata_new/test/Product with ['Clipart', 'Product', 'Real World', 'Art']\n",
      "loading data in /mnt/sda/zd/data/splitdata_new/test/Real World with ['Clipart', 'Product', 'Real World', 'Art']\n",
      "loading data in /mnt/sda/zd/data/splitdata_new/test/Art with ['Clipart', 'Product', 'Real World', 'Art']\n",
      "Data init successful!\n",
      "0.643\n",
      "0.644\n",
      "0.637\n",
      "0.649\n",
      "0.638\n",
      "0.642\n",
      "0.646\n",
      "0.645\n",
      "0.64\n",
      "0.643\n",
      "0.642\n"
     ]
    }
   ],
   "source": [
    "def freeze_param(model):\n",
    "    for name, param in model.named_parameters():\n",
    "        param.requires_grad = False\n",
    "args = init()\n",
    "args.dataset = \"officehome\"\n",
    "args.root_dir = \"/mnt/sda/zd/data/splitdata_new/\"\n",
    "logging.info(\"Argument init successful!\")\n",
    "server_model: ClipModelMA = ClipModelMA(args.net, n_experts=args.n_experts, device=args.device)  # load the server data\n",
    "dataloader: DomainDataset = get_data(args.dataset)(args, server_model.preprocess)\n",
    "train_loaders, test_loaders, labels = dataloader.get_dataloader(0)\n",
    "assert len(train_loaders) == args.n_clients, \"This just mention you to make sure the n_clients \\\n",
    "                                            equals to the datasplit client number.\"\n",
    "server_model.labels = labels\n",
    "freeze_param(server_model.model)\n",
    "logging.info(\"Data init successful!\")\n",
    "a = Adapter(\"ViT-B/16\")\n",
    "print(test_client(server_model, None,train_loaders[2],args.device))\n",
    "for i in range(10):\n",
    "    train_client(server_model, a, train_loaders[2], args.device, args)\n",
    "    print(test_client(server_model, a,train_loaders[2],args.device))\n",
    "# server_model.init_MoE() # expert number already saved in the server_model.\n",
    "# logging.info(\"Model MoE init successful!\")  # use the structure of single CLIP training server and client\n",
    "# server_model.model.eval()\n",
    "# server_model.model.to(args.device)\n",
    "\n"
   ]
  },
  {
   "cell_type": "code",
   "execution_count": 5,
   "metadata": {},
   "outputs": [
    {
     "data": {
      "text/plain": [
       "<torch.utils.hooks.RemovableHandle at 0x7f13100b0e20>"
      ]
     },
     "execution_count": 5,
     "metadata": {},
     "output_type": "execute_result"
    }
   ],
   "source": [
    "t = []\n",
    "def get_feature():\n",
    "    def hook(module, input, output):\n",
    "        t.append(output)\n",
    "    return hook\n",
    "server_model.model.visual.transformer.resblocks[11].register_forward_hook(get_feature())"
   ]
  },
  {
   "cell_type": "code",
   "execution_count": 6,
   "metadata": {},
   "outputs": [
    {
     "name": "stdout",
     "output_type": "stream",
     "text": [
      "loading data in /mnt/sda/zd/data/splitdata_new/client0/task0/Art\n",
      "loading data in /mnt/sda/zd/data/splitdata_new/client1/task0/Clipart\n",
      "loading data in /mnt/sda/zd/data/splitdata_new/client2/task0/Clipart\n",
      "loading data in /mnt/sda/zd/data/splitdata_new/client3/task0/Clipart\n",
      "loading data in /mnt/sda/zd/data/splitdata_new/client4/task0/Clipart\n",
      "loading data in /mnt/sda/zd/data/splitdata_new/client5/task0/Art\n",
      "loading data in /mnt/sda/zd/data/splitdata_new/client6/task0/Product\n",
      "loading data in /mnt/sda/zd/data/splitdata_new/client7/task0/Art\n",
      "loading data in /mnt/sda/zd/data/splitdata_new/client8/task0/Product\n",
      "loading data in /mnt/sda/zd/data/splitdata_new/client9/task0/Clipart\n",
      "loading data in /mnt/sda/zd/data/splitdata_new/test/Clipart with ['Clipart', 'Product', 'Real World', 'Art']\n",
      "loading data in /mnt/sda/zd/data/splitdata_new/test/Product with ['Clipart', 'Product', 'Real World', 'Art']\n",
      "loading data in /mnt/sda/zd/data/splitdata_new/test/Real World with ['Clipart', 'Product', 'Real World', 'Art']\n",
      "loading data in /mnt/sda/zd/data/splitdata_new/test/Art with ['Clipart', 'Product', 'Real World', 'Art']\n"
     ]
    },
    {
     "name": "stderr",
     "output_type": "stream",
     "text": [
      "  0%|          | 0/2 [00:00<?, ?it/s]"
     ]
    }
   ],
   "source": [
    "all_feature = []\n",
    "train_loaders,_,_ = dataloader.get_dataloader(0)\n",
    "for client in tqdm(range(args.n_clients)[:2]):\n",
    "    tr_data = train_loaders[client]\n",
    "    feature = []\n",
    "    for image, _, _  in tr_data:\n",
    "        image = image.to(args.device)\n",
    "        image_feature = server_model.model.encode_image(image)\n",
    "        for i in image_feature:\n",
    "            feature.append(i.detach().cpu().numpy())\n",
    "    all_feature.append(feature)\n"
   ]
  },
  {
   "cell_type": "code",
   "execution_count": 29,
   "metadata": {},
   "outputs": [
    {
     "data": {
      "text/plain": [
       "torch.Size([197, 100, 768])"
      ]
     },
     "execution_count": 29,
     "metadata": {},
     "output_type": "execute_result"
    }
   ],
   "source": [
    "t[0][0].shape"
   ]
  },
  {
   "cell_type": "code",
   "execution_count": null,
   "metadata": {},
   "outputs": [],
   "source": [
    "from sklearn.manifold import TSNE\n",
    "import numpy as np\n",
    "import matplotlib.pyplot as plt\n",
    "\n",
    "# 假设你有一个标签列表，其中每个标签对应一个feature对象\n",
    "labels = list(itertools.chain.from_iterable([[i]*800 for i in range(10)]))# 这里的标签可以是任何你想要的标识符\n",
    "\n",
    "# 将特征和标签合并成一个NumPy数组\n",
    "all_feature = np.vstack(all_feature)  # 将所有特征堆叠成一个大的NumPy数组\n",
    "labels = np.array(labels)  # 将标签转换为NumPy数组\n",
    "\n",
    "print(\"执行t-SNE降维\")\n",
    "tsne = TSNE(n_components=2, perplexity=5, learning_rate=200, random_state=42)\n",
    "tsne_result = tsne.fit_transform(all_feature)\n",
    "\n",
    "print(\"可视化数据并使用标签着色\")\n",
    "plt.scatter(tsne_result[:, 0], tsne_result[:, 1], c=labels, cmap='viridis')  # 使用'viridis'颜色地图\n",
    "plt.title(\"t-SNE Visualization with Labels\")\n",
    "plt.colorbar()\n",
    "plt.show()"
   ]
  },
  {
   "cell_type": "code",
   "execution_count": null,
   "metadata": {},
   "outputs": [],
   "source": [
    "print(\"执行t-SNE降维\")\n",
    "tsne = TSNE(n_components=2, perplexity=200, learning_rate=400, random_state=42)\n",
    "tsne_result = tsne.fit_transform(all_feature)\n",
    "\n",
    "print(\"可视化数据并使用标签着色\")\n",
    "plt.scatter(tsne_result[:, 0], tsne_result[:, 1], c=labels, s=3)  # 使用'viridis'颜色地图\n",
    "plt.title(\"t-SNE Visualization with Labels\")\n",
    "plt.colorbar()\n",
    "plt.show()"
   ]
  },
  {
   "cell_type": "code",
   "execution_count": null,
   "metadata": {},
   "outputs": [],
   "source": [
    "\n",
    "\n",
    "import sys\n",
    "import os\n",
    "import itertools\n",
    "\n",
    "base_path = os.path.dirname(os.path.dirname(os.path.abspath(\".\")))\n",
    "sys.path.append(base_path)\n",
    "\n",
    "import torch.optim as optim\n",
    "import numpy as np\n",
    "from tqdm import tqdm\n",
    "import logging\n",
    "\n",
    "from utils.config import img_param_init, set_random_seed\n",
    "from utils.dataload import DomainDataset, get_data\n",
    "# from model.clip import ClipModelMA, Adapter\n",
    "import clip\n",
    "from process import train_client, communicate, test_server, test_client, fetch\n",
    "\n",
    "class argparser():\n",
    "   device = \"cuda:1\"\n",
    "   dataset = 'officehome'\n",
    "   root_dir='/mnt/sda/zd/data/splitdata/'\n",
    "   net='ViT-B/16'\n",
    "   seed=0\n",
    "   logdir=None\n",
    "   device=\"cuda:1\"\n",
    "   n_clients=10\n",
    "   n_experts=5\n",
    "   inner_iter=10\n",
    "   n_task=10\n",
    "   # data setting parameter\n",
    "   datapercent=8e-1\n",
    "   batch=100\n",
    "   # optimizer parameter\n",
    "   lr=5e-3\n",
    "   beta1=0.9\n",
    "   beta2=0.98\n",
    "   eps=1e-6\n",
    "   weight_decay=0.2\n",
    "    \n",
    "def init():\n",
    "    args = argparser()\n",
    "    if args.logdir is not None:\n",
    "        logging.basicConfig(filename=args.logdir, level=logging.DEBUG)\n",
    "    else:\n",
    "        logging.basicConfig(stream=sys.stdout, level=logging.DEBUG)\n",
    "    args.random_state = np.random.RandomState(1)\n",
    "    set_random_seed(args.seed)\n",
    "    args = img_param_init(args)  # init the dataset parameters(domains and classnum)\n",
    "    args.thresh = 1e-4\n",
    "    return args"
   ]
  },
  {
   "cell_type": "code",
   "execution_count": null,
   "metadata": {},
   "outputs": [],
   "source": [
    "args = init()\n",
    "model, preprocess = clip.load(\"ViT-B/32\")\n",
    "model.to(args.device).eval()\n",
    "dataloader: DomainDataset = get_data('officehome')(args, preprocess)"
   ]
  },
  {
   "cell_type": "code",
   "execution_count": null,
   "metadata": {},
   "outputs": [],
   "source": [
    "\n",
    "all_feature = []\n",
    "all_label = []\n",
    "train_loaders,_,_ = dataloader.get_dataloader(0)\n",
    "for client in tqdm(range(args.n_clients)):\n",
    "    tr_data = train_loaders[client]\n",
    "    feature = []\n",
    "    label = []\n",
    "    for image, _, labels  in tr_data:\n",
    "        image, labels = image.to(args.device), labels.to(args.device)\n",
    "        image_feature, f1= model.encode_image(image)\n",
    "        for index, i in enumerate(f1):\n",
    "            feature.append(i)\n",
    "            label.append(labels[index].detach().cpu().numpy())\n",
    "    all_feature.append(feature)\n",
    "    all_label.append(label)\n",
    "    "
   ]
  },
  {
   "cell_type": "code",
   "execution_count": null,
   "metadata": {},
   "outputs": [],
   "source": [
    "import copy\n",
    "saved_feature = copy.deepcopy(all_feature)\n",
    "saved_label = copy.deepcopy(all_label)"
   ]
  },
  {
   "cell_type": "code",
   "execution_count": null,
   "metadata": {},
   "outputs": [],
   "source": [
    "saved_label[0][:10]"
   ]
  },
  {
   "cell_type": "code",
   "execution_count": null,
   "metadata": {},
   "outputs": [],
   "source": [
    "from sklearn.manifold import TSNE\n",
    "import numpy as np\n",
    "import matplotlib.pyplot as plt\n",
    "\n",
    "# 假设你有一个标签列表，其中每个标签对应一个feature对象\n",
    "# labels = list(itertools.chain.from_iterable([[i]*800 for i in range(10)]))# 这里的标签可以是任何你想要的标识符\n",
    "# labels = np.array(labels)  # 将标签转换为NumPy数组\n",
    "labels = all_label\n",
    "# 将特征和标签合并成一个NumPy数组\n",
    "all_feature = np.vstack(all_feature)  # 将所有特征堆叠成一个大的NumPy数组\n",
    "labels = np.vstack(labels)\n",
    "\n",
    "\n"
   ]
  },
  {
   "cell_type": "code",
   "execution_count": null,
   "metadata": {},
   "outputs": [],
   "source": [
    "print(\"执行t-SNE降维\")\n",
    "tsne = TSNE(n_components=2, perplexity=30, learning_rate=200, random_state=42)\n",
    "tsne_result = tsne.fit_transform(all_feature[:,0,:])\n",
    "\n",
    "print(\"可视化数据并使用标签着色\")\n",
    "plt.scatter(tsne_result[:, 0], tsne_result[:, 1], c=labels, cmap='viridis', s=3)  # 使用'viridis'颜色地图\n",
    "plt.title(\"t-SNE Visualization with Labels\")\n",
    "plt.colorbar()\n",
    "plt.show()"
   ]
  },
  {
   "cell_type": "code",
   "execution_count": null,
   "metadata": {},
   "outputs": [],
   "source": [
    "# labels = list(itertools.chain.from_iterable([[i]*800 for i in range(10)]))# 这里的标签可以是任何你想要的标识符\n",
    "labels = list(itertools.chain.from_iterable([[i]*800 for i in [0, 1, 0, 2, 0, 2, 0, 3, 1, 2]]))\n",
    "labels = np.array(labels)  # 将标签转换为NumPy数组\n",
    "result_list = []\n",
    "for i in range(50):\n",
    "    print(\"执行t-SNE降维\")\n",
    "    tsne = TSNE(n_components=2, perplexity=30, learning_rate=200, random_state=42)\n",
    "    tsne_result = tsne.fit_transform(all_feature[:,i,:])\n",
    "    result_list.append(tsne_result)\n",
    "    print(\"可视化数据并使用标签着色\")\n",
    "    plt.scatter(tsne_result[:, 0], tsne_result[:, 1], c=labels, cmap='viridis', s=3)  # 使用'viridis'颜色地图\n",
    "    plt.title(\"t-SNE Visualization with Labels\")\n",
    "    plt.colorbar()\n",
    "    plt.show()"
   ]
  },
  {
   "cell_type": "code",
   "execution_count": null,
   "metadata": {},
   "outputs": [],
   "source": [
    "\n",
    "INFO:root:loading data in /mnt/sda/zd/data/splitdata/client0/task0/Art\n",
    "INFO:root:loading data in /mnt/sda/zd/data/splitdata/client1/task0/Real World\n",
    "INFO:root:loading data in /mnt/sda/zd/data/splitdata/client2/task0/Art\n",
    "INFO:root:loading data in /mnt/sda/zd/data/splitdata/client3/task0/Clipart\n",
    "INFO:root:loading data in /mnt/sda/zd/data/splitdata/client4/task0/Art\n",
    "INFO:root:loading data in /mnt/sda/zd/data/splitdata/client5/task0/Clipart\n",
    "INFO:root:loading data in /mnt/sda/zd/data/splitdata/client6/task0/Art\n",
    "INFO:root:loading data in /mnt/sda/zd/data/splitdata/client7/task0/Product\n",
    "INFO:root:loading data in /mnt/sda/zd/data/splitdata/client8/task0/Real World\n",
    "INFO:root:loading data in /mnt/sda/zd/data/splitdata/client9/task0/Clipart"
   ]
  }
 ],
 "metadata": {
  "kernelspec": {
   "display_name": "fedclip",
   "language": "python",
   "name": "python3"
  },
  "language_info": {
   "codemirror_mode": {
    "name": "ipython",
    "version": 3
   },
   "file_extension": ".py",
   "mimetype": "text/x-python",
   "name": "python",
   "nbconvert_exporter": "python",
   "pygments_lexer": "ipython3",
   "version": "3.8.5"
  }
 },
 "nbformat": 4,
 "nbformat_minor": 2
}
